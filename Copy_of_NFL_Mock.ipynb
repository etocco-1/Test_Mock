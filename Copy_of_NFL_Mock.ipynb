{
  "cells": [
    {
      "cell_type": "markdown",
      "metadata": {
        "id": "GL-bkZc3U5Fq"
      },
      "source": [
        "# Pip installs"
      ]
    },
    {
      "cell_type": "code",
      "source": [
        "!pip install tabulate"
      ],
      "metadata": {
        "id": "SNWx_pHmaY_B"
      },
      "execution_count": null,
      "outputs": []
    },
    {
      "cell_type": "code",
      "source": [
        "!pip install copy"
      ],
      "metadata": {
        "id": "Gc2Q_ngcBuE8"
      },
      "execution_count": null,
      "outputs": []
    },
    {
      "cell_type": "code",
      "execution_count": null,
      "metadata": {
        "id": "_b55rmtQ3eyH"
      },
      "outputs": [],
      "source": [
        "!pip install requests[socks]"
      ]
    },
    {
      "cell_type": "code",
      "execution_count": null,
      "metadata": {
        "id": "Hc73GRzfzJsQ"
      },
      "outputs": [],
      "source": [
        "!pip install numpy"
      ]
    },
    {
      "cell_type": "code",
      "execution_count": null,
      "metadata": {
        "id": "JvmQbqhdyA8B"
      },
      "outputs": [],
      "source": [
        "!pip install requests"
      ]
    },
    {
      "cell_type": "code",
      "execution_count": null,
      "metadata": {
        "id": "HTx_Q3nzUB8o"
      },
      "outputs": [],
      "source": [
        "!pip install requests"
      ]
    },
    {
      "cell_type": "code",
      "execution_count": null,
      "metadata": {
        "id": "Ndst3lJ3UyUY"
      },
      "outputs": [],
      "source": [
        "!pip install beautifulsoup4"
      ]
    },
    {
      "cell_type": "code",
      "execution_count": null,
      "metadata": {
        "id": "CqK69lKRUz9F"
      },
      "outputs": [],
      "source": [
        "!pip install pandas"
      ]
    },
    {
      "cell_type": "markdown",
      "metadata": {
        "id": "lXcdw-JLhJoD"
      },
      "source": [
        "# Library"
      ]
    },
    {
      "cell_type": "code",
      "execution_count": null,
      "metadata": {
        "id": "jVcHY6bZhH5F"
      },
      "outputs": [],
      "source": [
        "from bs4 import BeautifulSoup\n",
        "from tabulate import tabulate\n",
        "import pandas as pd\n",
        "import numpy as np\n",
        "import copy\n",
        "import requests"
      ]
    },
    {
      "cell_type": "markdown",
      "metadata": {
        "id": "h3Kgm2KpVMxM"
      },
      "source": [
        "# Webscrape NFL Big Board"
      ]
    },
    {
      "cell_type": "code",
      "execution_count": null,
      "metadata": {
        "id": "6JFZw9swVv9e"
      },
      "outputs": [],
      "source": [
        "\n",
        "# for loop getting required webpages\n",
        "pages = range(1,5)\n",
        "\n",
        "bb_frames = {}\n",
        "for n in pages:        # NBA season to scrape\n",
        "  page = n\n",
        "  # URL to scrape, notice f string:\n",
        "  bb_frames[\"bb_url\" + str(n)] = f\"https://www.drafttek.com/2024-NFL-Draft-Big-Board/Top-NFL-Draft-Prospects-2024-Page-{page}.asp\"\n"
      ]
    },
    {
      "cell_type": "code",
      "execution_count": null,
      "metadata": {
        "id": "jjyig_IfXljL"
      },
      "outputs": [],
      "source": [
        "# contains each link used\n",
        "bb_frames"
      ]
    },
    {
      "cell_type": "code",
      "execution_count": null,
      "metadata": {
        "id": "jcYntYX_aJLM"
      },
      "outputs": [],
      "source": [
        "pl_bb_frames = {}\n",
        "\n",
        "for key, url in bb_frames.items():\n",
        "    response = requests.get(url)\n",
        "    if response.status_code == 200:\n",
        "        tables = pd.read_html(response.content)\n",
        "        pl_bb_frames[key] = tables[1] if len(tables) > 1 else None\n",
        "    else:\n",
        "        print(f\"Failed to fetch data from {url}\")"
      ]
    },
    {
      "cell_type": "code",
      "execution_count": null,
      "metadata": {
        "id": "puxgVnsZYyBb"
      },
      "outputs": [],
      "source": [
        "pl_bb_frames"
      ]
    },
    {
      "cell_type": "code",
      "execution_count": null,
      "metadata": {
        "id": "5LG1jmC1ag4O"
      },
      "outputs": [],
      "source": [
        "NFL_Draft_Player_DF = pd.concat(pl_bb_frames.values(), ignore_index=True)\n",
        "\n",
        "# Use the first row as column headers\n",
        "if not NFL_Draft_Player_DF.empty:\n",
        "    NFL_Draft_Player_DF.columns = NFL_Draft_Player_DF.iloc[0]\n",
        "    NFL_Draft_Player_DF = NFL_Draft_Player_DF[1:]  # Exclude the first row after setting as column headers\n",
        "\n",
        "\n",
        "# Drop specified columns\n",
        "columns_to_drop = ['CNG', 'Ht', 'Wt', 'Elig', 'TRAK']\n",
        "NFL_Draft_Player_DF = NFL_Draft_Player_DF.drop(columns=columns_to_drop, errors='ignore')\n",
        "\n",
        "# Rename 'P1' column to 'Position'\n",
        "NFL_Draft_Player_DF = NFL_Draft_Player_DF.rename(columns={'P1': 'Position'})"
      ]
    },
    {
      "cell_type": "code",
      "execution_count": null,
      "metadata": {
        "id": "aS68QN0NZDYB"
      },
      "outputs": [],
      "source": [
        "'''\n",
        "NFL_Draft_Player_DF = pd.concat(pl_bb_frames)\n",
        "#NFL_Draft_Player_DF = NBA_Player_DF.drop_duplicates()\n",
        "NFL_Draft_Player_DF.reset_index(drop=True, inplace=True)\n",
        "'''"
      ]
    },
    {
      "cell_type": "code",
      "source": [
        "\n",
        "NFL_Draft_Player_DF['Rank'] = NFL_Draft_Player_DF['Rank'].astype(str)\n",
        "\n"
      ],
      "metadata": {
        "id": "_xkCmW0A7HfJ"
      },
      "execution_count": null,
      "outputs": []
    },
    {
      "cell_type": "code",
      "execution_count": null,
      "metadata": {
        "id": "6ewSAKD5ZLxm"
      },
      "outputs": [],
      "source": [
        "NFL_Draft_Player_DF"
      ]
    },
    {
      "cell_type": "markdown",
      "metadata": {
        "id": "7R1LTbHOuqT7"
      },
      "source": [
        "# Draft Order"
      ]
    },
    {
      "cell_type": "code",
      "execution_count": null,
      "metadata": {
        "id": "wfkhyGjFxw6G"
      },
      "outputs": [],
      "source": [
        "# read in the dataset\n",
        "# Replace this with the published CSV link from your Google Sheets document\n",
        "published_csv_url = 'https://docs.google.com/spreadsheets/d/e/2PACX-1vQm5tfir1M3cvUa_b69CHMJgvKZIRfk2yDG8GMhWqN90anthOojFm_u7nYWdgqhnBwvCFoxkS2QXf7P/pub?output=csv'\n",
        "\n",
        "# Read the CSV file directly from the published link\n",
        "NFL_Draft_Order_DF = pd.read_csv(published_csv_url)\n",
        "\n",
        "NFL_Draft_Order_DF.rename(columns={'Unnamed: 1': 'Team'}, inplace=True)\n",
        "\n"
      ]
    },
    {
      "cell_type": "code",
      "source": [
        "# Initialize the 'Round' column\n",
        "NFL_Draft_Order_DF['Round'] = ''\n",
        "\n",
        "# Iterate through the DataFrame and fill the 'Round' column\n",
        "current_round = ''\n",
        "for index, row in NFL_Draft_Order_DF.iterrows():\n",
        "    pick = row['Pick']\n",
        "    if pd.notnull(pick) and 'Round' in pick:\n",
        "        current_round = pick\n",
        "    NFL_Draft_Order_DF.at[index, 'Round'] = current_round\n",
        "\n",
        "# Display the updated DataFrame\n",
        "print(NFL_Draft_Order_DF)\n",
        "\n"
      ],
      "metadata": {
        "id": "YWNeAZDV0_u6"
      },
      "execution_count": null,
      "outputs": []
    },
    {
      "cell_type": "code",
      "source": [
        "# Remove rows with null cells in any column and rows where 'Pick' contains 'Round'\n",
        "NFL_Draft_Order_DF = NFL_Draft_Order_DF.dropna()  # Remove rows with null cells in any column\n",
        "NFL_Draft_Order_DF = NFL_Draft_Order_DF[~NFL_Draft_Order_DF['Pick'].str.contains('Round')]  # Remove rows where 'Pick' contains 'Round'\n",
        "\n",
        "# Reset index\n",
        "NFL_Draft_Order_DF.reset_index(drop=True, inplace=True)\n",
        "\n",
        "# Display the updated DataFrame\n",
        "print(NFL_Draft_Order_DF)\n"
      ],
      "metadata": {
        "id": "_4Zdix-C2TnU"
      },
      "execution_count": null,
      "outputs": []
    },
    {
      "cell_type": "code",
      "source": [
        "'''\n",
        "def remove_last_abbreviation(team_name):\n",
        "    if isinstance(team_name, str):  # Check if it's a string\n",
        "        # Split the string into parts separated by spaces\n",
        "        parts = team_name.split()\n",
        "        # Check if the last part contains only capital letters\n",
        "        last_part = parts[-1]\n",
        "        if last_part.isupper() and len(last_part) >= 2:\n",
        "            # Remove the last part if it's all uppercase letters and at least 2 characters\n",
        "            return ' '.join(parts[:-1])  # Join the parts except the last one\n",
        "    return team_name  # Return unchanged if not a string or no abbreviation found\n",
        "\n",
        "\n",
        "# Apply the function to the 'Team' column\n",
        "#NFL_Draft_Order_DF['Team'] = NFL_Draft_Order_DF['Team'].apply(remove_last_abbreviation)\n",
        "\n",
        "# Display the updated DataFrame\n",
        "print(NFL_Draft_Order_DF)\n",
        "'''\n",
        "def remove_last_abbreviation(team_name):\n",
        "    if isinstance(team_name, str):  # Check if it's a string\n",
        "        # Split the string into parts separated by spaces\n",
        "        parts = team_name.split()\n",
        "        # Check if there are parts in the string\n",
        "        if len(parts) > 1:\n",
        "            # Check if the last part contains only capital letters\n",
        "            last_part = parts[-1]\n",
        "            if last_part.isupper() and len(last_part) >= 2:\n",
        "                # Remove the last part if it's all uppercase letters and at least 2 characters\n",
        "                return ' '.join(parts[:-1])  # Join the parts except the last one\n",
        "    return team_name  # Return unchanged if not a string or no abbreviation found\n",
        "\n",
        "# Apply the function to the 'Team' column\n",
        "NFL_Draft_Order_DF['Team'] = NFL_Draft_Order_DF['Team'].apply(remove_last_abbreviation)\n",
        "\n",
        "# Display the updated DataFrame\n",
        "print(NFL_Draft_Order_DF)\n"
      ],
      "metadata": {
        "id": "do_c_yz_n4cw"
      },
      "execution_count": null,
      "outputs": []
    },
    {
      "cell_type": "code",
      "source": [
        "# Reorder columns to have 'Round' column as the first column\n",
        "NFL_Draft_Order_DF = NFL_Draft_Order_DF[['Round'] + [col for col in NFL_Draft_Order_DF.columns if col != 'Round']]\n",
        "\n",
        "# Display the updated DataFrame\n",
        "print(NFL_Draft_Order_DF)\n"
      ],
      "metadata": {
        "id": "wwPR_6Az3X8i"
      },
      "execution_count": null,
      "outputs": []
    },
    {
      "cell_type": "code",
      "execution_count": null,
      "metadata": {
        "id": "t-tTDqnO0TbH"
      },
      "outputs": [],
      "source": [
        "NFL_Draft_Order_DF"
      ]
    },
    {
      "cell_type": "markdown",
      "source": [
        "# Team Needs"
      ],
      "metadata": {
        "id": "HvEFIfGJgJzw"
      }
    },
    {
      "cell_type": "code",
      "execution_count": null,
      "metadata": {
        "id": "TPaLPkH10hBn"
      },
      "outputs": [],
      "source": [
        "# Replace this with the published CSV link from your Google Sheets document\n",
        "published_csv_url = 'https://docs.google.com/spreadsheets/d/e/2PACX-1vQm5tfir1M3cvUa_b69CHMJgvKZIRfk2yDG8GMhWqN90anthOojFm_u7nYWdgqhnBwvCFoxkS2QXf7P/pub?gid=808119699&single=true&output=csv'\n",
        "\n",
        "# Read the CSV file directly from the published link\n",
        "NFL_Team_Needs_DF = pd.read_csv(published_csv_url)"
      ]
    },
    {
      "cell_type": "code",
      "source": [
        "NFL_Team_Needs_DF"
      ],
      "metadata": {
        "id": "6stCWHAPmF41"
      },
      "execution_count": null,
      "outputs": []
    },
    {
      "cell_type": "markdown",
      "source": [
        "# Merged Data"
      ],
      "metadata": {
        "id": "eTYp-bDL5Gle"
      }
    },
    {
      "cell_type": "code",
      "source": [
        "# merge draft order and needs dataframes\n",
        "merged_df = pd.merge(NFL_Draft_Order_DF, NFL_Team_Needs_DF, on='Team', how='left')\n"
      ],
      "metadata": {
        "id": "wnzzv4wA5LtT"
      },
      "execution_count": null,
      "outputs": []
    },
    {
      "cell_type": "code",
      "source": [
        "merged_df"
      ],
      "metadata": {
        "id": "l3RnRVw95R9S"
      },
      "execution_count": null,
      "outputs": []
    },
    {
      "cell_type": "code",
      "source": [
        "# create dataframe that will hold all infro including drafted player\n",
        "\n",
        "final_df = pd.merge(merged_df, NFL_Draft_Player_DF, left_on=['Round', 'Pick'], right_on=['Rank', 'Prospect'], how='left')\n",
        "\n"
      ],
      "metadata": {
        "id": "idQ3NstY5PoA"
      },
      "execution_count": null,
      "outputs": []
    },
    {
      "cell_type": "code",
      "source": [
        "final_df"
      ],
      "metadata": {
        "id": "woA4cbhI5Tjo"
      },
      "execution_count": null,
      "outputs": []
    },
    {
      "cell_type": "markdown",
      "source": [
        "# Mock Draft"
      ],
      "metadata": {
        "id": "dZLV9zQj61H7"
      }
    },
    {
      "cell_type": "code",
      "source": [
        "# reset datafrme\n",
        "updated_final_df = final_df\n",
        "'''\n",
        "# List of columns to clear\n",
        "columns_to_clear = [\"Rank\", \"Prospect\", \"College\", \"Position\"]\n",
        "\n",
        "# Clearing the data in specified columns\n",
        "# Clearing the data in specified columns\n",
        "updated_final_df[columns_to_clear] = updated_final_df[columns_to_clear].apply(lambda x: None)\n",
        "'''"
      ],
      "metadata": {
        "id": "LcrnB93sHlFU"
      },
      "execution_count": null,
      "outputs": []
    },
    {
      "cell_type": "code",
      "source": [
        "import pandas as pd\n",
        "from tabulate import tabulate\n",
        "import copy\n",
        "\n",
        "# Assuming your existing dataframes and initializations\n",
        "\n",
        "def display_previous_selections(updated_final_df):\n",
        "    selected_rows = updated_final_df.dropna(subset=['Rank'])\n",
        "    if selected_rows.empty:\n",
        "        print(\"No selections made yet.\")\n",
        "    else:\n",
        "        columns_to_display = ['Round', 'Pick', 'Team', 'Prospect', 'College', 'Position']\n",
        "        print(tabulate(selected_rows[columns_to_display], headers='keys', tablefmt='pretty', showindex=False))\n",
        "\n",
        "def fill_missing_info(row, available_players, updated_final_df):\n",
        "    valid_selection = False\n",
        "    while not valid_selection:\n",
        "        if pd.isnull(row['Rank']):\n",
        "            print(f\"Current Pick: {row['Round']} - Pick {row['Pick']} by {row['Team']}\")\n",
        "\n",
        "            team_needs = NFL_Team_Needs_DF[NFL_Team_Needs_DF['Team'] == row['Team']]\n",
        "            if not team_needs.empty:\n",
        "                print(f\"Team Needs: {team_needs['Needs'].values[0]}\\n\")\n",
        "\n",
        "\n",
        "            print(\"Top 10 Players Ranked:\")\n",
        "            for index, player in available_players.head(10).iterrows():\n",
        "                player_positions = player['Position']\n",
        "                print(f\"{player['Rank']} - {player['Prospect']} (Positions: {player_positions})\")\n",
        "            print(\"\\n\")\n",
        "            display_previous_selections(updated_final_df)  # Display selected players info as a table\n",
        "            print(\"\\n\")\n",
        "            print(\"Enter the Rank for the player you want to select.\")\n",
        "            print(\"Type 'exit' to finish the draft and show the picks made.\")\n",
        "            print(\"\\n\")\n",
        "            chosen_player = input(\"Player Rank: \")\n",
        "            print(\"\\n\")\n",
        "\n",
        "            if chosen_player.lower() == 'exit':\n",
        "                return 'exit', available_players\n",
        "\n",
        "            player_exists = available_players[available_players['Rank'].str.lower() == chosen_player.lower()]\n",
        "            if not player_exists.empty:\n",
        "                row['Rank'] = player_exists.iloc[0]['Rank']\n",
        "                row['Prospect'] = player_exists.iloc[0]['Prospect']\n",
        "                row['College'] = player_exists.iloc[0]['College']\n",
        "                row['Position'] = player_exists.iloc[0]['Position']\n",
        "\n",
        "                selected_player = player_exists.iloc[0].copy()\n",
        "                updated_final_df.loc[row.name, ['Rank', 'Prospect', 'College', 'Position']] = selected_player[['Rank', 'Prospect', 'College', 'Position']]\n",
        "\n",
        "                available_players.drop(player_exists.index, inplace=True)\n",
        "                available_players.reset_index(drop=True, inplace=True)\n",
        "\n",
        "                valid_selection = True\n",
        "            else:\n",
        "                print(\"Invalid selection. Please choose a valid rank from the list.\\n\")\n",
        "\n",
        "    return row, available_players\n",
        "\n",
        "def initiate_mock_draft():\n",
        "    global NFL_Draft_Player_DF, updated_final_df\n",
        "\n",
        "    NFL_Draft_Player_DF = copy.deepcopy(copy_NFL_Draft_Player_DF)\n",
        "    updated_final_df = copy.deepcopy(copy_updated_final_df)\n",
        "\n",
        "    available_players = original_available_players.copy()\n",
        "\n",
        "    updated_final_df, available_players = updated_final_df.apply(\n",
        "        fill_missing_info, axis=1, available_players=available_players, updated_final_df=updated_final_df\n",
        "    )\n",
        "\n",
        "    while True:\n",
        "        if updated_final_df == 'exit':\n",
        "            print(\"Mock draft stopped.\")\n",
        "            break\n",
        "\n",
        "        choice = input(\"Do you want to save the mock draft? (yes/no): \")\n",
        "        if choice.lower() == 'yes':\n",
        "            updated_final_df.to_csv('saved_draft.csv', index=False)\n",
        "            print(\"Mock draft saved.\")\n",
        "            break\n",
        "        elif choice.lower() == 'no':\n",
        "            print(\"Starting a new mock draft.\")\n",
        "            initiate_mock_draft()\n",
        "            break\n",
        "        else:\n",
        "            print(\"Please enter 'yes' or 'no'.\")\n",
        "\n",
        "initiate_mock_draft()\n"
      ],
      "metadata": {
        "id": "dLgPgsAW6y-9"
      },
      "execution_count": null,
      "outputs": []
    },
    {
      "cell_type": "code",
      "source": [
        "updated_final_df"
      ],
      "metadata": {
        "id": "KqSg6j3e8iS7"
      },
      "execution_count": null,
      "outputs": []
    }
  ],
  "metadata": {
    "colab": {
      "collapsed_sections": [
        "7R1LTbHOuqT7",
        "HvEFIfGJgJzw"
      ],
      "provenance": []
    },
    "kernelspec": {
      "display_name": "Python 3",
      "name": "python3"
    },
    "language_info": {
      "name": "python"
    }
  },
  "nbformat": 4,
  "nbformat_minor": 0
}